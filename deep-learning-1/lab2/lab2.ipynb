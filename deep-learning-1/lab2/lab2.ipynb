{
 "cells": [
  {
   "cell_type": "markdown",
   "id": "1ae3b69e",
   "metadata": {},
   "source": [
    "# 1. zadatak"
   ]
  },
  {
   "cell_type": "code",
   "execution_count": 31,
   "id": "314d5dfb",
   "metadata": {},
   "outputs": [
    {
     "name": "stdout",
     "output_type": "stream",
     "text": [
      "Convolution\n",
      "Check grad wrt input\n",
      "Relative error =  7.51757712517256e-10\n",
      "Error norm =  3.32470564938306e-10\n",
      "Check grad wrt params\n",
      "Check weights:\n",
      "Relative error =  5.806204302543164e-11\n",
      "Error norm =  2.841966639635822e-10\n",
      "Check biases:\n",
      "Relative error =  5.185852366033641e-12\n",
      "Error norm =  5.855957636410198e-11\n",
      "\n",
      "MaxPooling\n",
      "Check grad wrt input\n",
      "Relative error =  3.2756381493177025e-12\n",
      "Error norm =  9.757663517980937e-11\n",
      "\n",
      "ReLU\n",
      "Check grad wrt input\n",
      "Relative error =  3.2756417579635854e-12\n",
      "Error norm =  5.814211428965986e-11\n",
      "\n",
      "FC\n",
      "Check grad wrt input\n",
      "Relative error =  5.52524951851382e-09\n",
      "Error norm =  8.231621149350728e-10\n",
      "Check grad wrt params\n",
      "Check weights:\n",
      "Relative error =  9.980623398308908e-10\n",
      "Error norm =  7.79352140691715e-10\n",
      "Check biases:\n",
      "Relative error =  3.5883003854740795e-11\n",
      "Error norm =  1.1121276223333535e-10\n",
      "\n",
      "SoftmaxCrossEntropyWithLogits\n",
      "Relative error =  3.384583347610915e-07\n",
      "Error norm =  6.488336314281318e-10\n",
      "\n",
      "L2Regularizer\n",
      "Check grad wrt params\n",
      "Relative error =  6.746547192286332e-07\n",
      "Error norm =  2.2162343811711335e-09\n"
     ]
    }
   ],
   "source": [
    "%run zad1/check_grads.py"
   ]
  },
  {
   "cell_type": "markdown",
   "id": "de66e2c9",
   "metadata": {},
   "source": [
    "#### Broj parametara:\n",
    "\n",
    "     1) conv1: \n",
    "         16F, 5x5\n",
    "         (5*5 + 1) * 16 = 416 \n",
    "         dim: (24, 24, 16)\n",
    "     2) maxPool1:\n",
    "         dim: (12, 12, 16)\n",
    "     3) relu\n",
    "     4) conv2: \n",
    "         32F, 5x5\n",
    "         (5*5*16 + 1)*32 = 12832 \n",
    "         dim: (8, 8, 32)\n",
    "     5) maxPool2:\n",
    "         dim: (4, 4, 32)\n",
    "     6) relu\n",
    "     7) flatten\n",
    "     8) fc:\n",
    "         (4*4*32 + 1) * (512) = 262 656 \n",
    "     9) relu\n",
    "    10) softmax:\n",
    "         (512 + 1) * 10 = 5130 \n",
    "    \n",
    "    ukupno = 281 034 parametara"
   ]
  },
  {
   "cell_type": "code",
   "execution_count": 44,
   "id": "47412b76",
   "metadata": {},
   "outputs": [
    {
     "name": "stdout",
     "output_type": "stream",
     "text": [
      "Model: \"sequential_8\"\n",
      "_________________________________________________________________\n",
      " Layer (type)                Output Shape              Param #   \n",
      "=================================================================\n",
      " conv2d_13 (Conv2D)          (None, 24, 24, 16)        416       \n",
      "                                                                 \n",
      " max_pooling2d_11 (MaxPoolin  (None, 12, 12, 16)       0         \n",
      " g2D)                                                            \n",
      "                                                                 \n",
      " re_lu_11 (ReLU)             (None, 12, 12, 16)        0         \n",
      "                                                                 \n",
      " conv2d_14 (Conv2D)          (None, 8, 8, 32)          12832     \n",
      "                                                                 \n",
      " max_pooling2d_12 (MaxPoolin  (None, 4, 4, 32)         0         \n",
      " g2D)                                                            \n",
      "                                                                 \n",
      " re_lu_12 (ReLU)             (None, 4, 4, 32)          0         \n",
      "                                                                 \n",
      " flatten_4 (Flatten)         (None, 512)               0         \n",
      "                                                                 \n",
      " dense_4 (Dense)             (None, 512)               262656    \n",
      "                                                                 \n",
      " dense_5 (Dense)             (None, 10)                5130      \n",
      "                                                                 \n",
      "=================================================================\n",
      "Total params: 281,034\n",
      "Trainable params: 281,034\n",
      "Non-trainable params: 0\n",
      "_________________________________________________________________\n"
     ]
    }
   ],
   "source": [
    "import tensorflow.keras as keras\n",
    "from keras.layers import Conv2D, MaxPooling2D, Dense, Softmax, ReLU, Flatten\n",
    "\n",
    "model = keras.Sequential([\n",
    "    Conv2D(16, (5, 5), input_shape=(28, 28, 1)),\n",
    "    MaxPooling2D((2, 2), strides=2),\n",
    "    ReLU(),\n",
    "    \n",
    "    Conv2D(32, (5, 5)),\n",
    "    MaxPooling2D((2, 2), strides=2),\n",
    "    ReLU(),\n",
    "    \n",
    "    Flatten(),\n",
    "    Dense(512, activation='relu'),\n",
    "    Dense(10, activation='softmax')\n",
    "])\n",
    "\n",
    "model.summary()"
   ]
  },
  {
   "cell_type": "markdown",
   "id": "57e722ee",
   "metadata": {},
   "source": [
    "#### Velicina receptivnog polja:"
   ]
  },
  {
   "attachments": {},
   "cell_type": "markdown",
   "id": "b512e857",
   "metadata": {},
   "source": [
    "![Receptive field](zad1/Untitled.png)"
   ]
  },
  {
   "cell_type": "markdown",
   "id": "c72a2eed",
   "metadata": {},
   "source": [
    "#### Kolicina memorije potrebna za backprop:\n",
    "\n",
    "    1) 281 034 parametara * 50 batch_size = 14 051 700\n",
    "    2) 14 051 700 parametara * 4 B = 56 206 800 B\n",
    "    3) 56 206 800 B * 10^-6 = 56.2068 MB"
   ]
  },
  {
   "cell_type": "markdown",
   "id": "23072fad",
   "metadata": {},
   "source": [
    "#### Veza između početnog iznosa funkcije gubitka i broja razreda C:\n",
    "    Što je više razreda C manja je šansa da će potpuno nasumičan klasifikator pogriješiti pa je i vrijednost funkcije gubitka veća."
   ]
  },
  {
   "cell_type": "markdown",
   "id": "728bcbf8",
   "metadata": {},
   "source": [
    "# 2. zadatak"
   ]
  },
  {
   "cell_type": "code",
   "execution_count": 55,
   "id": "90dd4259",
   "metadata": {},
   "outputs": [
    {
     "data": {
      "image/png": "[encoded data removed]",
      "text/plain": [
       "<Figure size 864x648 with 3 Axes>"
      ]
     },
     "metadata": {},
     "output_type": "display_data"
    }
   ],
   "source": [
    "import matplotlib.pyplot as plt \n",
    "fig, axs = plt.subplots(3, 1, figsize=(12, 9))\n",
    "\n",
    "for i, l in enumerate([0.001, 0.01, 0.1]):\n",
    "    axs[i].imshow(plt.imread(f'./zad1/out_reg_{l}/conv1_epoch_08_step_050000_input_000.png'), interpolation='nearest', cmap='gray')\n",
    "    axs[i].set_title(f'$\\lambda$ = {l}')\n",
    "    axs[i].set_xticks([]); axs[i].set_yticks([]); "
   ]
  }
 ],
 "metadata": {
  "kernelspec": {
   "display_name": "Python 3 (ipykernel)",
   "language": "python",
   "name": "python3"
  },
  "language_info": {
   "codemirror_mode": {
    "name": "ipython",
    "version": 3
   },
   "file_extension": ".py",
   "mimetype": "text/x-python",
   "name": "python",
   "nbconvert_exporter": "python",
   "pygments_lexer": "ipython3",
   "version": "3.9.12"
  }
 },
 "nbformat": 4,
 "nbformat_minor": 5
}
